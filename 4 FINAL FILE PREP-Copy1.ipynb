{
 "cells": [
  {
   "cell_type": "markdown",
   "id": "a378f8a4",
   "metadata": {},
   "source": [
    "# Mutual information calculation"
   ]
  },
  {
   "cell_type": "code",
   "execution_count": null,
   "id": "a09d6658",
   "metadata": {},
   "outputs": [],
   "source": [
    "import pandas as pd\n",
    "\n",
    "from scipy import stats\n",
    "from scipy.stats import mannwhitneyu as mw\n",
    "from scipy.stats import sem\n",
    "from scipy.stats import iqr\n",
    "from scipy.stats import ttest_ind\n",
    "from scipy.stats import ttest_rel\n",
    "from scipy.stats import wilcoxon\n",
    "\n",
    "import random\n",
    "\n",
    "import math\n",
    "\n",
    "import EntropyHub as EH\n",
    "\n",
    "import numpy as np\n",
    "\n",
    "import time\n",
    "\n",
    "from os import listdir\n",
    "from os.path import isfile, join\n",
    "\n",
    "import neo\n",
    "\n",
    "import matplotlib.pyplot as plt\n",
    "import seaborn as sns"
   ]
  },
  {
   "cell_type": "code",
   "execution_count": null,
   "id": "1e3d4d93",
   "metadata": {},
   "outputs": [],
   "source": [
    "raw_data = pd.read_excel(\"Nikita_16_11_22_updrs.xlsx\") #original file with other SUA params\n",
    "\n",
    "# patients = list(raw_data[\"patient\"].unique())\n",
    "\n",
    "# params = list(raw_data)[14:]\n",
    "# for param in params:\n",
    "#     raw_data[param].fillna(raw_data[param].median(), inplace=True)"
   ]
  },
  {
   "cell_type": "code",
   "execution_count": null,
   "id": "16a3cfe7",
   "metadata": {},
   "outputs": [],
   "source": [
    "params = ['sib', 'isitm', 'isitisi']"
   ]
  },
  {
   "cell_type": "code",
   "execution_count": null,
   "id": "ac073323",
   "metadata": {},
   "outputs": [],
   "source": [
    "files_list = []\n",
    "max_wl = 7\n",
    "for i in range(2, max_wl + 1):\n",
    "    files_list.append(\"encoded_data_with_ents_wl\" + str(i) + \".csv\") # open files created with 3 ENCODED ISI\n"
   ]
  },
  {
   "cell_type": "code",
   "execution_count": null,
   "id": "47122fd7",
   "metadata": {},
   "outputs": [],
   "source": [
    "for i in range(len(files_list)):\n",
    "    if i == 0:\n",
    "        df = pd.read_csv(files_list[i])\n",
    "        result = pd.merge(raw_data, df, on=[\"Unnamed: 0.1.1\"])\n",
    "        print(files_list[i])\n",
    "    #         result = result.drop(['interval_name_y'], axis=1)\n",
    "    else:\n",
    "        df = pd.read_csv(files_list[i])\n",
    "        result = pd.merge(result, df, on=[\"Unnamed: 0.1.1\"])\n",
    "        print(files_list[i])\n",
    "#         result = result.drop(['interval_name_y'], axis=1)\n"
   ]
  },
  {
   "cell_type": "code",
   "execution_count": null,
   "id": "0aa88a83",
   "metadata": {},
   "outputs": [],
   "source": [
    "for el in list(result):\n",
    "    if \"_x\" in el or \"_y\" in el or el in params:\n",
    "        try:\n",
    "            result = result.drop(columns=el)\n",
    "        except:\n",
    "            pass\n"
   ]
  },
  {
   "cell_type": "code",
   "execution_count": null,
   "id": "8c679ba8",
   "metadata": {},
   "outputs": [],
   "source": [
    "for i in range(1, 8):\n",
    "    for el in [\"isitisi\", \"isitm\", \"sib\"]:\n",
    "        MI = \"mut_inf_\" + el + \"_wl\" + str(i)  # mutual information I(X;Y)\n",
    "        X_ent = \"ent_\" + el + \"_wl\" + str(i)\n",
    "        cond_XY = \"cond_ent_\" + el + \"_wl\" + str(i)\n",
    "        result[MI] = result[X_ent] - result[cond_XY]\n",
    "\n",
    "        diff_X_Y = \"ent_diff_\" + el + \"_wl\" + str(i)  # entropies difference H(X)-H(Y)\n",
    "        Y_ent = \"shuf_ent_\" + el + \"_wl\" + str(i)\n",
    "        result[diff_X_Y] = result[X_ent] - result[Y_ent]\n",
    "\n",
    "        joint_X_Y = \"j_ent_\" + el + \"_wl\" + str(i)  # joint entropy H(XY)\n",
    "        result[joint_X_Y] = result[X_ent] + result[Y_ent] - result[MI]\n",
    "\n",
    "        ar_ent = \"ar_ent_\" + el + \"_wl\" + str(i)  # H' = max[H]-H(XY)\n",
    "        result[ar_ent] = i**2 - result[joint_X_Y]\n",
    "\n",
    "groups = result.groupby(\"STN_ID\")\n",
    "rel_depth_list = []\n",
    "for name, group in groups:\n",
    "    min_depth = min(group[\"depth\"])\n",
    "    temp_depth = group[\"depth\"] - min_depth\n",
    "    max_depth = max(temp_depth)\n",
    "    rel_depth_list += list(temp_depth / max_depth)\n",
    "result[\"norm_depth\"] = rel_depth_list\n",
    "result[\"updrs_diff\"] = result[\"updrs_off\"] - result[\"updrs_on\"]\n"
   ]
  },
  {
   "cell_type": "code",
   "execution_count": null,
   "id": "c6e7f6e5",
   "metadata": {},
   "outputs": [],
   "source": [
    "result.to_csv('file_to_analyse_cond.csv')"
   ]
  },
  {
   "cell_type": "code",
   "execution_count": null,
   "id": "e260b479",
   "metadata": {},
   "outputs": [],
   "source": [
    "result.to_excel('file_to_analyse_cond.xlsx')"
   ]
  },
  {
   "cell_type": "code",
   "execution_count": null,
   "id": "2429bae6",
   "metadata": {},
   "outputs": [],
   "source": []
  }
 ],
 "metadata": {
  "kernelspec": {
   "display_name": "Python 3 (ipykernel)",
   "language": "python",
   "name": "python3"
  },
  "language_info": {
   "codemirror_mode": {
    "name": "ipython",
    "version": 3
   },
   "file_extension": ".py",
   "mimetype": "text/x-python",
   "name": "python",
   "nbconvert_exporter": "python",
   "pygments_lexer": "ipython3",
   "version": "3.10.9"
  }
 },
 "nbformat": 4,
 "nbformat_minor": 5
}
